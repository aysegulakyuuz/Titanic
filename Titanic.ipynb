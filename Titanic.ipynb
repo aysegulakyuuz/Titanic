{
  "nbformat": 4,
  "nbformat_minor": 0,
  "metadata": {
    "colab": {
      "provenance": []
    },
    "kernelspec": {
      "name": "python3",
      "display_name": "Python 3"
    },
    "language_info": {
      "name": "python"
    }
  },
  "cells": [
    {
      "cell_type": "code",
      "execution_count": 5,
      "metadata": {
        "id": "YGNh0UegGKbt"
      },
      "outputs": [],
      "source": []
    },
    {
      "cell_type": "code",
      "source": [
        "from google.colab import drive\n",
        "drive.mount('/content/drive')"
      ],
      "metadata": {
        "colab": {
          "base_uri": "https://localhost:8080/"
        },
        "id": "5YRN4RJUGlVy",
        "outputId": "0cb9fa9b-56cb-4a35-8f6e-ff7cfa9ba4f3"
      },
      "execution_count": 6,
      "outputs": [
        {
          "output_type": "stream",
          "name": "stdout",
          "text": [
            "Drive already mounted at /content/drive; to attempt to forcibly remount, call drive.mount(\"/content/drive\", force_remount=True).\n"
          ]
        }
      ]
    },
    {
      "cell_type": "code",
      "source": [
        "# Titanic Veri Seti Pandas Uygulaması\n",
        "\n",
        "import pandas as pd\n",
        "\n",
        "# Titanic veri setini indirip yükle\n",
        "# İstersen kendi yolunu ver, ya da Kaggle’dan çekebilirsin.\n",
        "url = \"https://raw.githubusercontent.com/datasciencedojo/datasets/master/titanic.csv\"\n",
        "df = pd.read_csv(url)\n",
        "\n",
        "# Veri setini göster (ilk 5 satır)\n",
        "print(df.head())\n",
        "\n",
        "\n",
        "\n",
        "\n"
      ],
      "metadata": {
        "colab": {
          "base_uri": "https://localhost:8080/"
        },
        "id": "uRU9spnAG0Fd",
        "outputId": "916cda5f-9d25-4cab-ca61-e61f512226fb"
      },
      "execution_count": 17,
      "outputs": [
        {
          "output_type": "stream",
          "name": "stdout",
          "text": [
            "   PassengerId  Survived  Pclass  \\\n",
            "0            1         0       3   \n",
            "1            2         1       1   \n",
            "2            3         1       3   \n",
            "3            4         1       1   \n",
            "4            5         0       3   \n",
            "\n",
            "                                                Name     Sex   Age  SibSp  \\\n",
            "0                            Braund, Mr. Owen Harris    male  22.0      1   \n",
            "1  Cumings, Mrs. John Bradley (Florence Briggs Th...  female  38.0      1   \n",
            "2                             Heikkinen, Miss. Laina  female  26.0      0   \n",
            "3       Futrelle, Mrs. Jacques Heath (Lily May Peel)  female  35.0      1   \n",
            "4                           Allen, Mr. William Henry    male  35.0      0   \n",
            "\n",
            "   Parch            Ticket     Fare Cabin Embarked  \n",
            "0      0         A/5 21171   7.2500   NaN        S  \n",
            "1      0          PC 17599  71.2833   C85        C  \n",
            "2      0  STON/O2. 3101282   7.9250   NaN        S  \n",
            "3      0            113803  53.1000  C123        S  \n",
            "4      0            373450   8.0500   NaN        S  \n",
            "1. Kazada ölenlerin yaş ortalaması: 30.62617924528302\n"
          ]
        }
      ]
    },
    {
      "cell_type": "code",
      "source": [
        "# 1. Kazada ölenlerin yaş ortalaması\n",
        "print(\"1. Kazada ölenlerin yaş ortalaması:\", df[df.Survived == 0][\"Age\"].mean())\n"
      ],
      "metadata": {
        "colab": {
          "base_uri": "https://localhost:8080/"
        },
        "id": "VLj-nlP1IGdo",
        "outputId": "72d145f7-0526-4f58-8798-f3e24d2d4cfd"
      },
      "execution_count": 18,
      "outputs": [
        {
          "output_type": "stream",
          "name": "stdout",
          "text": [
            "1. Kazada ölenlerin yaş ortalaması: 30.62617924528302\n"
          ]
        }
      ]
    },
    {
      "cell_type": "code",
      "source": [
        "# 2. Kazada ölenlerin bilet fiyatlarının ortalaması ve medyanı\n",
        "print(\"2. Kazada ölenlerin bilet fiyatlarının ortalaması:\", df[df.Survived == 0][\"Fare\"].mean())\n",
        "print(\"   Kazada ölenlerin bilet fiyatlarının medyanı:\", df[df.Survived == 0][\"Fare\"].median())"
      ],
      "metadata": {
        "colab": {
          "base_uri": "https://localhost:8080/"
        },
        "id": "xHfng6UpH_yN",
        "outputId": "4c43d01a-e0af-41f4-c441-9de2fa854036"
      },
      "execution_count": 8,
      "outputs": [
        {
          "output_type": "stream",
          "name": "stdout",
          "text": [
            "2. Kazada ölenlerin bilet fiyatlarının ortalaması: 22.117886885245902\n",
            "   Kazada ölenlerin bilet fiyatlarının medyanı: 10.5\n"
          ]
        }
      ]
    },
    {
      "cell_type": "code",
      "source": [
        "\n",
        "\n",
        "# 3. Kazada ölen erkeklerin yaş ortalaması\n",
        "print(\"3. Kazada ölen erkeklerin yaş ortalaması:\", df[(df.Survived == 0) & (df.Sex == \"male\")][\"Age\"].mean())"
      ],
      "metadata": {
        "colab": {
          "base_uri": "https://localhost:8080/"
        },
        "id": "KhrZx-5gHrw5",
        "outputId": "d316cba6-98d8-405a-cfc7-90af977f19e8"
      },
      "execution_count": 9,
      "outputs": [
        {
          "output_type": "stream",
          "name": "stdout",
          "text": [
            "3. Kazada ölen erkeklerin yaş ortalaması: 31.618055555555557\n"
          ]
        }
      ]
    },
    {
      "cell_type": "code",
      "source": [
        "\n",
        "\n",
        "# 4. Kazada ölen kadınların yaş ortalaması\n",
        "print(\"4. Kazada ölen kadınların yaş ortalaması:\", df[(df.Survived == 0) & (df.Sex == \"female\")][\"Age\"].mean())"
      ],
      "metadata": {
        "colab": {
          "base_uri": "https://localhost:8080/"
        },
        "id": "EXesb6L0HqN4",
        "outputId": "3c6fb26b-e872-43f6-da37-6a74d20a2266"
      },
      "execution_count": 10,
      "outputs": [
        {
          "output_type": "stream",
          "name": "stdout",
          "text": [
            "4. Kazada ölen kadınların yaş ortalaması: 25.046875\n"
          ]
        }
      ]
    },
    {
      "cell_type": "code",
      "source": [
        "\n",
        "\n",
        "# 5. Kazadan kurtulanların yaş ortalaması\n",
        "print(\"5. Kazadan kurtulanların yaş ortalaması:\", df[df.Survived == 1][\"Age\"].mean())"
      ],
      "metadata": {
        "colab": {
          "base_uri": "https://localhost:8080/"
        },
        "id": "UekMaRSqHmoL",
        "outputId": "3bad3237-cf4c-4aa0-b25b-0c50a0657ac7"
      },
      "execution_count": 11,
      "outputs": [
        {
          "output_type": "stream",
          "name": "stdout",
          "text": [
            "5. Kazadan kurtulanların yaş ortalaması: 28.343689655172415\n"
          ]
        }
      ]
    },
    {
      "cell_type": "code",
      "source": [
        "\n",
        "\n",
        "# 6. Kazadan kurtulanların bilet fiyatlarının ortalaması\n",
        "print(\"6. Kazadan kurtulanların bilet fiyatlarının ortalaması:\", df[df.Survived == 1][\"Fare\"].mean())\n"
      ],
      "metadata": {
        "colab": {
          "base_uri": "https://localhost:8080/"
        },
        "id": "cDK7LiVQHkM4",
        "outputId": "276eb913-d37c-40b8-beb1-d5a3fbb7c8b6"
      },
      "execution_count": 12,
      "outputs": [
        {
          "output_type": "stream",
          "name": "stdout",
          "text": [
            "6. Kazadan kurtulanların bilet fiyatlarının ortalaması: 48.39540760233918\n"
          ]
        }
      ]
    },
    {
      "cell_type": "code",
      "source": [
        "# 7. Kazadan kurtulan toplam kişi sayısı\n",
        "print(\"7. Kazadan kurtulan toplam kişi sayısı:\", len(df[df.Survived == 1]))\n",
        "\n"
      ],
      "metadata": {
        "colab": {
          "base_uri": "https://localhost:8080/"
        },
        "id": "6w93dpxTHh75",
        "outputId": "8d04089a-d304-48a5-ecd5-db0b2fbd611a"
      },
      "execution_count": 13,
      "outputs": [
        {
          "output_type": "stream",
          "name": "stdout",
          "text": [
            "7. Kazadan kurtulan toplam kişi sayısı: 342\n"
          ]
        }
      ]
    },
    {
      "cell_type": "code",
      "source": [
        "# 8. 10 yaşından küçüklerin bilet fiyatlarının medyan değeri\n",
        "print(\"8. 10 yaşından küçüklerin bilet fiyatlarının medyan değeri:\", df[df.Age < 10][\"Fare\"].median())\n",
        "\n",
        "\n"
      ],
      "metadata": {
        "colab": {
          "base_uri": "https://localhost:8080/"
        },
        "id": "-avkEqCMH2ES",
        "outputId": "328d895a-2df6-429c-a0c5-b0458135d1b6"
      },
      "execution_count": 14,
      "outputs": [
        {
          "output_type": "stream",
          "name": "stdout",
          "text": [
            "8. 10 yaşından küçüklerin bilet fiyatlarının medyan değeri: 27.0\n"
          ]
        }
      ]
    },
    {
      "cell_type": "code",
      "source": [
        "# 9. 1., 2. ve 3. sınıf bilet fiyatlarının ortalama ve medyanları\n",
        "print(\"9. Sınıflara göre bilet fiyatlarının ortalama ve medyanları:\")\n",
        "print(df.groupby(\"Pclass\")[\"Fare\"].agg([\"mean\", \"median\"]))\n",
        "\n"
      ],
      "metadata": {
        "colab": {
          "base_uri": "https://localhost:8080/"
        },
        "id": "GrVlVNRHH3rj",
        "outputId": "6ca00814-c356-475e-ce04-2bda131dc60b"
      },
      "execution_count": 15,
      "outputs": [
        {
          "output_type": "stream",
          "name": "stdout",
          "text": [
            "9. Sınıflara göre bilet fiyatlarının ortalama ve medyanları:\n",
            "             mean   median\n",
            "Pclass                    \n",
            "1       84.154687  60.2875\n",
            "2       20.662183  14.2500\n",
            "3       13.675550   8.0500\n"
          ]
        }
      ]
    },
    {
      "cell_type": "code",
      "source": [
        "# 10 Kazada ölen kadınların oranı ile erkeklerin oranını karşılaştırınız.\n",
        "\n",
        "# Kazada ölen kadın sayısı\n",
        "olen_kadin = len(df[(df.Survived == 0) & (df.Sex == \"female\")])\n",
        "\n",
        "# Toplam kadın sayısı\n",
        "toplam_kadin = len(df[df.Sex == \"female\"])\n",
        "\n",
        "# Ölen kadınların oranı\n",
        "oran_kadin = olen_kadin / toplam_kadin\n",
        "\n",
        "# Kazada ölen erkek sayısı\n",
        "olen_erkek = len(df[(df.Survived == 0) & (df.Sex == \"male\")])\n",
        "\n",
        "# Toplam erkek sayısı\n",
        "toplam_erkek = len(df[df.Sex == \"male\"])\n",
        "\n",
        "# Ölen erkeklerin oranı\n",
        "oran_erkek = olen_erkek / toplam_erkek\n",
        "\n",
        "print(f\"Kazada ölen kadınların oranı: {oran_kadin:.2%}\")\n",
        "print(f\"Kazada ölen erkeklerin oranı: {oran_erkek:.2%}\")"
      ],
      "metadata": {
        "colab": {
          "base_uri": "https://localhost:8080/"
        },
        "id": "nAfjy9efH46V",
        "outputId": "f7074b93-b86c-4eeb-b65a-a9ae627e8004"
      },
      "execution_count": 16,
      "outputs": [
        {
          "output_type": "stream",
          "name": "stdout",
          "text": [
            "Kazada ölen kadınların oranı: 25.80%\n",
            "Kazada ölen erkeklerin oranı: 81.11%\n"
          ]
        }
      ]
    }
  ]
}